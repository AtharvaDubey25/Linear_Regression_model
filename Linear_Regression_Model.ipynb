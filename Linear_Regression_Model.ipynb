{
  "nbformat": 4,
  "nbformat_minor": 0,
  "metadata": {
    "colab": {
      "provenance": []
    },
    "kernelspec": {
      "name": "python3",
      "display_name": "Python 3"
    },
    "language_info": {
      "name": "python"
    }
  },
  "cells": [
    {
      "cell_type": "code",
      "execution_count": 1,
      "metadata": {
        "id": "gI6Y-dn3onw6"
      },
      "outputs": [],
      "source": [
        "import numpy as np\n",
        "import matplotlib.pyplot as plt"
      ]
    },
    {
      "cell_type": "code",
      "source": [
        "X_train=np.array([\n",
        "    14.9466, 10.916, 14.2804, 16.9843, 13.1955, 11.825, 15.3139, 15.7235, 16.035, 16.6199,\n",
        "    12.6543, 8.2169, 12.5837, 9.6133, 12.8215, 16.3872, 15.8408, 8.6389, 15.144, 9.3289,\n",
        "    12.8238, 17.3382, 14.8508, 16.9123, 13.6231, 8.4617, 14.2864, 6.6769, 10.2532, 9.1945,\n",
        "    6.1146, 13.8508, 10.1472, 14.0654, 10.1693, 13.9086, 14.7466, 11.2483, 10.0368, 9.9799,\n",
        "    13.0651, 14.6636, 13.0253, 7.9646, 14.1182, 13.6158, 10.4792, 12.2243, 16.0981, 15.9056\n",
        "])\n",
        "Y_train=np.array([32.1193, 24.164, 31.5923, 38.142, 29.6372, 27.6641, 33.4009, 33.9062, 35.4776, 36.1219,\n",
        "    26.9374, 20.4865, 29.7735, 20.3738, 28.411, 36.5182, 32.9317, 18.8686, 34.3203, 21.2399,\n",
        "    27.8544, 36.8739, 31.3975, 36.8628, 29.8624, 19.6898, 30.53, 17.5436, 22.9099, 21.9587,\n",
        "    15.0032, 31.8467, 22.8317, 30.2074, 22.6742, 29.5727, 33.987, 26.6821, 24.5898, 23.6469,\n",
        "    28.7855, 32.1753, 29.4351, 19.2867, 32.3368, 31.8386, 24.6181, 26.9487, 33.6479, 35.9319])"
      ],
      "metadata": {
        "id": "xwiKtyuno6NP"
      },
      "execution_count": 6,
      "outputs": []
    },
    {
      "cell_type": "code",
      "source": [
        "plt.scatter(X_train,Y_train)\n",
        "plt.xlabel('input')\n",
        "plt.ylabel('output')\n",
        "plt.show()"
      ],
      "metadata": {
        "colab": {
          "base_uri": "https://localhost:8080/",
          "height": 449
        },
        "id": "Vt8Z8Eh_zzXR",
        "outputId": "897e7d95-0b4d-4fb4-e17d-c16e27299c10"
      },
      "execution_count": 7,
      "outputs": [
        {
          "output_type": "display_data",
          "data": {
            "text/plain": [
              "<Figure size 640x480 with 1 Axes>"
            ],
            "image/png": "[encoded data removed]"
          },
          "metadata": {}
        }
      ]
    },
    {
      "cell_type": "code",
      "source": [
        "def compute_cost(x,y,w,b):\n",
        "  m=x.shape[0]\n",
        "  cost=0.0\n",
        "  for i in range(m):\n",
        "    f_wb_i=x[i]*w+b\n",
        "    cost=cost+(f_wb_i-y[i])**2\n",
        "  cost=cost/(2*m)\n",
        "  return cost"
      ],
      "metadata": {
        "id": "o08htlWm0XFi"
      },
      "execution_count": 11,
      "outputs": []
    },
    {
      "cell_type": "code",
      "source": [
        "w=3\n",
        "b=2\n",
        "print(f\"the cost is: {compute_cost(X_train,Y_train,w,b)}\")"
      ],
      "metadata": {
        "colab": {
          "base_uri": "https://localhost:8080/"
        },
        "id": "mZ-pVnsi43-0",
        "outputId": "0bfad778-9960-4f85-d34c-aa40839776b1"
      },
      "execution_count": 12,
      "outputs": [
        {
          "output_type": "stream",
          "name": "stdout",
          "text": [
            "the cost is: 73.7460609435\n"
          ]
        }
      ]
    },
    {
      "cell_type": "code",
      "source": [
        "def compute_gradient(x,y,w,b):\n",
        "  m=x.shape[0]\n",
        "  dj_dw=0.0\n",
        "  dj_db=0.0\n",
        "  for i in range(m):\n",
        "    err=(x[i]*w+b-y[i])\n",
        "    dj_dw+=err*x[i]\n",
        "    dj_db+=err\n",
        "  dj_dw=dj_dw/m\n",
        "  dj_db/=m\n",
        "  return dj_dw,dj_db"
      ],
      "metadata": {
        "id": "UyPIAqMd5Tp2"
      },
      "execution_count": 13,
      "outputs": []
    },
    {
      "cell_type": "code",
      "source": [
        "temp_w=0.2\n",
        "temp_b=0.2\n",
        "temp_w,temp_b=compute_gradient(X_train,Y_train,temp_w,temp_b)\n",
        "print(f\"temp w and b are {temp_w} and {temp_b}\")"
      ],
      "metadata": {
        "colab": {
          "base_uri": "https://localhost:8080/"
        },
        "id": "8sslPlm66_xz",
        "outputId": "a1e7de1e-1c52-433d-954c-3cac9682f57b"
      },
      "execution_count": 15,
      "outputs": [
        {
          "output_type": "stream",
          "name": "stdout",
          "text": [
            "temp w and b are -342.54161323488 and -25.724642799999998\n"
          ]
        }
      ]
    },
    {
      "cell_type": "code",
      "source": [
        "def gradient_descent(x,y,w,b,al):\n",
        "  num=10000\n",
        "  m=x.shape[0]\n",
        "\n",
        "  for i in range(num):\n",
        "    dj_dw,dj_db=compute_gradient(x,y,w,b)\n",
        "    w=w-al*dj_dw\n",
        "    b=b-al*dj_dw\n",
        "    cost=compute_cost(x,y,w,b)\n",
        "    if i%100==0:\n",
        "      print(cost)\n",
        "  return w,b"
      ],
      "metadata": {
        "id": "5cFmTSMG8RGT"
      },
      "execution_count": 20,
      "outputs": []
    },
    {
      "cell_type": "code",
      "source": [
        "alpha=0.01\n",
        "w,b=gradient_descent(X_train,Y_train,w,b,alpha)\n",
        "print(f\"w: {w} b: {b}\")"
      ],
      "metadata": {
        "colab": {
          "base_uri": "https://localhost:8080/"
        },
        "id": "7l1KVLfWDVJr",
        "outputId": "d4ea0014-da61-46c5-a734-59c63d079280"
      },
      "execution_count": 21,
      "outputs": [
        {
          "output_type": "stream",
          "name": "stdout",
          "text": [
            "0.5646528884513775\n",
            "0.5646528884513775\n",
            "0.5646528884513775\n",
            "0.5646528884513775\n",
            "0.5646528884513775\n",
            "0.5646528884513775\n",
            "0.5646528884513775\n",
            "0.5646528884513775\n",
            "0.5646528884513775\n",
            "0.5646528884513775\n",
            "0.5646528884513775\n",
            "0.5646528884513775\n",
            "0.5646528884513775\n",
            "0.5646528884513775\n",
            "0.5646528884513775\n",
            "0.5646528884513775\n",
            "0.5646528884513775\n",
            "0.5646528884513775\n",
            "0.5646528884513775\n",
            "0.5646528884513775\n",
            "0.5646528884513775\n",
            "0.5646528884513775\n",
            "0.5646528884513775\n",
            "0.5646528884513775\n",
            "0.5646528884513775\n",
            "0.5646528884513775\n",
            "0.5646528884513775\n",
            "0.5646528884513775\n",
            "0.5646528884513775\n",
            "0.5646528884513775\n",
            "0.5646528884513775\n",
            "0.5646528884513775\n",
            "0.5646528884513775\n",
            "0.5646528884513775\n",
            "0.5646528884513775\n",
            "0.5646528884513775\n",
            "0.5646528884513775\n",
            "0.5646528884513775\n",
            "0.5646528884513775\n",
            "0.5646528884513775\n",
            "0.5646528884513775\n",
            "0.5646528884513775\n",
            "0.5646528884513775\n",
            "0.5646528884513775\n",
            "0.5646528884513775\n",
            "0.5646528884513775\n",
            "0.5646528884513775\n",
            "0.5646528884513775\n",
            "0.5646528884513775\n",
            "0.5646528884513775\n",
            "0.5646528884513775\n",
            "0.5646528884513775\n",
            "0.5646528884513775\n",
            "0.5646528884513775\n",
            "0.5646528884513775\n",
            "0.5646528884513775\n",
            "0.5646528884513775\n",
            "0.5646528884513775\n",
            "0.5646528884513775\n",
            "0.5646528884513775\n",
            "0.5646528884513775\n",
            "0.5646528884513775\n",
            "0.5646528884513775\n",
            "0.5646528884513775\n",
            "0.5646528884513775\n",
            "0.5646528884513775\n",
            "0.5646528884513775\n",
            "0.5646528884513775\n",
            "0.5646528884513775\n",
            "0.5646528884513775\n",
            "0.5646528884513775\n",
            "0.5646528884513775\n",
            "0.5646528884513775\n",
            "0.5646528884513775\n",
            "0.5646528884513775\n",
            "0.5646528884513775\n",
            "0.5646528884513775\n",
            "0.5646528884513775\n",
            "0.5646528884513775\n",
            "0.5646528884513775\n",
            "0.5646528884513775\n",
            "0.5646528884513775\n",
            "0.5646528884513775\n",
            "0.5646528884513775\n",
            "0.5646528884513775\n",
            "0.5646528884513775\n",
            "0.5646528884513775\n",
            "0.5646528884513775\n",
            "0.5646528884513775\n",
            "0.5646528884513775\n",
            "0.5646528884513775\n",
            "0.5646528884513775\n",
            "0.5646528884513775\n",
            "0.5646528884513775\n",
            "0.5646528884513775\n",
            "0.5646528884513775\n",
            "0.5646528884513775\n",
            "0.5646528884513775\n",
            "0.5646528884513775\n",
            "0.5646528884513775\n",
            "w: 2.137716607762366 b: 1.1377166077623668\n"
          ]
        }
      ]
    },
    {
      "cell_type": "code",
      "source": [
        "m = X_train.shape[0]\n",
        "predicted = np.zeros(m)\n",
        "\n",
        "for i in range(m):\n",
        "    predicted[i] = w * X_train[i] + b"
      ],
      "metadata": {
        "id": "ybnDRdPdDpIH"
      },
      "execution_count": 23,
      "outputs": []
    },
    {
      "cell_type": "code",
      "source": [
        "plt.plot(X_train,predicted,c='b')\n",
        "plt.scatter(X_train,Y_train,c='r',marker='x')\n",
        "plt.xlabel('input')\n",
        "plt.ylabel('output')\n",
        "plt.title('regression model')\n",
        "plt.show()"
      ],
      "metadata": {
        "colab": {
          "base_uri": "https://localhost:8080/",
          "height": 472
        },
        "id": "j5RqtYMyFRg4",
        "outputId": "8a2dabe5-62be-4420-945f-f43b3aa0460c"
      },
      "execution_count": 27,
      "outputs": [
        {
          "output_type": "display_data",
          "data": {
            "text/plain": [
              "<Figure size 640x480 with 1 Axes>"
            ],
            "image/png": "[encoded data removed]"
          },
          "metadata": {}
        }
      ]
    },
    {
      "cell_type": "code",
      "source": [],
      "metadata": {
        "id": "duWvxsMFF1gf"
      },
      "execution_count": null,
      "outputs": []
    }
  ]
}